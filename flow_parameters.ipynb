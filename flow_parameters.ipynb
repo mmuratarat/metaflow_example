{
 "cells": [
  {
   "cell_type": "markdown",
   "id": "4252480b-a335-4922-a927-3f9eb8e0b626",
   "metadata": {},
   "source": [
    "# Flow Parameters\n",
    "\n",
    "Sometimes you need to pass a value to a flow at runtime. For example, in a machine learning system with automated aspects, you may not know how to select an input to the model training flow, such as a hyperparameter search space, until it is time to run the flow.\n",
    "\n",
    "\n",
    "\n",
    "To address these cases you can pass values to a `metaflow.Parameter` in your flow. When you write a flow you can define which parameters the flow will take. Then you can pass corresponding values to the command that runs your flow:\n",
    "\n",
    "```\n",
    "python <FLOW SCRIPT> run --<PARAM NAME> <PARAM VALUE>\n",
    "```\n",
    "\n",
    "Using parameters is a convenient way to quickly iterate in prototyping. For example, you might want to change a hyperparameter like a model's learning rate. "
   ]
  },
  {
   "cell_type": "markdown",
   "id": "a5605e62-62da-46ed-84cf-c395de7e0c78",
   "metadata": {},
   "source": [
    "# An Example\n",
    "\n",
    "Let's create a `.py` file named `parameter_flow.py` and paste the Flow code below:"
   ]
  },
  {
   "cell_type": "code",
   "execution_count": null,
   "id": "11319560-df78-4d83-bc19-9b88295edfe7",
   "metadata": {},
   "outputs": [],
   "source": [
    "from metaflow import FlowSpec, step, Parameter\n",
    "\n",
    "class ParameterizedFlow(FlowSpec):\n",
    "    \n",
    "    a = Parameter('a', default=10)\n",
    "    \n",
    "    @step\n",
    "    def start(self):\n",
    "        self.next(self.end)\n",
    "    \n",
    "    @step\n",
    "    def end(self):\n",
    "        print(f\"Result is {self.a + 30}\")\n",
    "\n",
    "if __name__ == \"__main__\":\n",
    "    ParameterizedFlow()"
   ]
  },
  {
   "cell_type": "markdown",
   "id": "8c707f53-387e-4224-9044-30e9350592d3",
   "metadata": {},
   "source": [
    "Let's run the flow with the command:\n",
    "\n",
    "```\n",
    "Arat-MacBook-Pro-2:metaflow_example mustafamuratarat$ python3.10 parameter_flow.py run\n",
    "```\n",
    "\n",
    "The output is\n",
    "\n",
    "```\n",
    "Metaflow 2.8.0 executing ParameterizedFlow for user:mustafamuratarat\n",
    "Validating your flow...\n",
    "    The graph looks good!\n",
    "Running pylint...\n",
    "    Pylint is happy!\n",
    "2023-03-12 21:32:12.418 Workflow starting (run-id 1678645932408198):\n",
    "2023-03-12 21:32:12.424 [1678645932408198/start/1 (pid 38867)] Task is starting.\n",
    "2023-03-12 21:32:12.995 [1678645932408198/start/1 (pid 38867)] Task finished successfully.\n",
    "2023-03-12 21:32:13.003 [1678645932408198/end/2 (pid 38870)] Task is starting.\n",
    "2023-03-12 21:32:13.504 [1678645932408198/end/2 (pid 38870)] Result is 40\n",
    "2023-03-12 21:32:13.586 [1678645932408198/end/2 (pid 38870)] Task finished successfully.\n",
    "2023-03-12 21:32:13.587 Done!\n",
    "```\n",
    "\n",
    "As can be seen easily, with the default value of `a`, the result is printed as 40.\n",
    "\n",
    "Now, let's change the parameter value to `30` and run the flow once again the the command:\n",
    "\n",
    "```\n",
    "Arat-MacBook-Pro-2:metaflow_example mustafamuratarat$ python3.10 parameter_flow.py run --a 30\n",
    "```\n",
    "\n",
    "The output is:\n",
    "\n",
    "```\n",
    "Metaflow 2.8.0 executing ParameterizedFlow for user:mustafamuratarat\n",
    "Validating your flow...\n",
    "    The graph looks good!\n",
    "Running pylint...\n",
    "    Pylint is happy!\n",
    "2023-03-12 21:32:24.398 Workflow starting (run-id 1678645944389762):\n",
    "2023-03-12 21:32:24.405 [1678645944389762/start/1 (pid 38892)] Task is starting.\n",
    "2023-03-12 21:32:24.985 [1678645944389762/start/1 (pid 38892)] Task finished successfully.\n",
    "2023-03-12 21:32:24.994 [1678645944389762/end/2 (pid 38895)] Task is starting.\n",
    "2023-03-12 21:32:25.485 [1678645944389762/end/2 (pid 38895)] Result is 60\n",
    "2023-03-12 21:32:25.566 [1678645944389762/end/2 (pid 38895)] Task finished successfully.\n",
    "2023-03-12 21:32:25.567 Done!\n",
    "```\n",
    "\n",
    "Now, the printed result is 60!\n",
    "\n",
    "So, this is how you can pass values to your flows at run time using parameters."
   ]
  }
 ],
 "metadata": {
  "kernelspec": {
   "display_name": "Python 3 (ipykernel)",
   "language": "python",
   "name": "python3"
  },
  "language_info": {
   "codemirror_mode": {
    "name": "ipython",
    "version": 3
   },
   "file_extension": ".py",
   "mimetype": "text/x-python",
   "name": "python",
   "nbconvert_exporter": "python",
   "pygments_lexer": "ipython3",
   "version": "3.10.8"
  }
 },
 "nbformat": 4,
 "nbformat_minor": 5
}
